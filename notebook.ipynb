{
 "cells": [
  {
   "cell_type": "code",
   "execution_count": 1,
   "metadata": {},
   "outputs": [],
   "source": [
    "from block import Block\n",
    "from transaction import Transaction\n",
    "from wallet import Wallet\n",
    "from blockchain import BlockChain\n",
    "from datetime import datetime"
   ]
  },
  {
   "cell_type": "markdown",
   "metadata": {},
   "source": [
    "# Pénztárcák létrehozása"
   ]
  },
  {
   "cell_type": "code",
   "execution_count": 2,
   "metadata": {},
   "outputs": [],
   "source": [
    "bob_wallet = Wallet(\"Bob\")\n",
    "jack_wallet = Wallet(\"Jack\")\n",
    "steve_wallet = Wallet(\"Steve\")\n",
    "sarah_wallet = Wallet(\"Sarah\")"
   ]
  },
  {
   "cell_type": "markdown",
   "metadata": {},
   "source": [
    "# Tranzakciók létrehozása"
   ]
  },
  {
   "cell_type": "code",
   "execution_count": 3,
   "metadata": {},
   "outputs": [],
   "source": [
    "transaction1 = Transaction(bob_wallet, jack_wallet, 10)\n",
    "transaction2 = Transaction(jack_wallet, bob_wallet, 13)\n",
    "transaction3 = Transaction(jack_wallet, steve_wallet, 18)\n",
    "transaction4 = Transaction(sarah_wallet, bob_wallet, 21)"
   ]
  },
  {
   "cell_type": "markdown",
   "metadata": {},
   "source": [
    "# Tranzakciók blokkokba rendezése"
   ]
  },
  {
   "cell_type": "code",
   "execution_count": 4,
   "metadata": {},
   "outputs": [
    {
     "name": "stdout",
     "output_type": "stream",
     "text": [
      "----------Start----------\n",
      "----------\n",
      "Series: 0;\n",
      "Block: 0000ed489e085ba7eee3728e205ed8adce975ac04d913a5fa4ef832c0d31cb08;\n",
      "Transaction Hash: Genesis;\n",
      "Previous hash: None;\n",
      "Nonce: 22146;\n",
      "Genesis transaction\n",
      "----------\n",
      "Series: 1;\n",
      "Block: 000079cdcc513a4a8d4a8448c5652ea6ea6674f6e67fd08bb7e324705706b062;\n",
      "Transaction Hash: 2f80b1bd56dac71938751c65368cd9c5aef3a24c7bb30b427efa3e92b7fe9405;\n",
      "Previous hash: 0000ed489e085ba7eee3728e205ed8adce975ac04d913a5fa4ef832c0d31cb08\n",
      "- Bob sent 10 coins to Jack.\n",
      "- Jack sent 13 coins to Bob.\n",
      "- Jack sent 18 coins to Steve.\n",
      "----------\n",
      "Series: 2;\n",
      "Block: 00002a894b33b8ea63dff6078a53414f65e641b86477e21f76b8440868b7d931;\n",
      "Transaction Hash: 7d79371dff7025ed6ea0da0a3b7d7aef3f73c75c982c56bc6bb2e408042f65aa;\n",
      "Previous hash: 000079cdcc513a4a8d4a8448c5652ea6ea6674f6e67fd08bb7e324705706b062\n",
      "- Sarah sent 21 coins to Bob.\n",
      "Is Chain Valid? True\n"
     ]
    }
   ],
   "source": [
    "pityuCoin = BlockChain()\n",
    "pityuCoin.add_block(Block(datetime.now(), transaction1.transaction_hash, [transaction1, transaction2, transaction3]))\n",
    "pityuCoin.add_block(Block(datetime.now(), transaction2.transaction_hash, [transaction4]))\n",
    "pityuCoin.show_chain()\n",
    "print(f\"Is Chain Valid? {pityuCoin.is_chain_valid()}\")"
   ]
  },
  {
   "cell_type": "markdown",
   "metadata": {},
   "source": [
    "# Hekkeljük meg a láncot\n",
    "A 2. tranzakcióba bele nyúlunk és beállítjuk a cél pénztárcának a hekker pénztárcáját és módosítjuk az összeget 250 coin-ra."
   ]
  },
  {
   "cell_type": "code",
   "execution_count": 5,
   "metadata": {},
   "outputs": [
    {
     "name": "stdout",
     "output_type": "stream",
     "text": [
      "Is Chain Valid? False\n",
      "Corrupt Chain:\n",
      "----------Start----------\n",
      "----------\n",
      "Series: 0;\n",
      "Block: 0000ed489e085ba7eee3728e205ed8adce975ac04d913a5fa4ef832c0d31cb08;\n",
      "Transaction Hash: Genesis;\n",
      "Previous hash: None;\n",
      "Nonce: 22146;\n",
      "Genesis transaction\n",
      "----------\n",
      "Series: 1;\n",
      "Block: 8808f79a27046648d85093420bd0fc024ed375e58f5182712894726ce99549c6;\n",
      "Transaction Hash: 0292b196aa746827a1fdbc5647943d7b6158f8ec03dc9eaf4ad6a3e4490b75ec;\n",
      "Previous hash: 0000ed489e085ba7eee3728e205ed8adce975ac04d913a5fa4ef832c0d31cb08\n",
      "- Bob sent 250 coins to Hacker.\n",
      "- Jack sent 13 coins to Bob.\n",
      "- Jack sent 18 coins to Steve.\n",
      "----------\n",
      "Series: 2;\n",
      "Block: 00002a894b33b8ea63dff6078a53414f65e641b86477e21f76b8440868b7d931;\n",
      "Transaction Hash: 7d79371dff7025ed6ea0da0a3b7d7aef3f73c75c982c56bc6bb2e408042f65aa;\n",
      "Previous hash: 000079cdcc513a4a8d4a8448c5652ea6ea6674f6e67fd08bb7e324705706b062\n",
      "- Sarah sent 21 coins to Bob.\n"
     ]
    }
   ],
   "source": [
    "hacker_wallet = Wallet(\"Hacker\")\n",
    "pityuCoin.change_chain(1, hacker_wallet, 250)\n",
    "print(f\"Is Chain Valid? {pityuCoin.is_chain_valid()}\")\n",
    "print(\"Corrupt Chain:\")\n",
    "pityuCoin.show_chain()"
   ]
  }
 ],
 "metadata": {
  "kernelspec": {
   "display_name": "Python 3.10.5 ('venv': venv)",
   "language": "python",
   "name": "python3"
  },
  "language_info": {
   "codemirror_mode": {
    "name": "ipython",
    "version": 3
   },
   "file_extension": ".py",
   "mimetype": "text/x-python",
   "name": "python",
   "nbconvert_exporter": "python",
   "pygments_lexer": "ipython3",
   "version": "3.10.5"
  },
  "orig_nbformat": 4,
  "vscode": {
   "interpreter": {
    "hash": "e39ccfdc9c41155a35c9399893f04d7c6604af9725427f02deb661ca0a3a4889"
   }
  }
 },
 "nbformat": 4,
 "nbformat_minor": 2
}
