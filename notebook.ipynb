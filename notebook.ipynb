{
 "cells": [
  {
   "cell_type": "code",
   "execution_count": 1,
   "metadata": {},
   "outputs": [],
   "source": [
    "from block import Block\n",
    "from transaction import Transaction\n",
    "from wallet import Wallet\n",
    "from blockchain import BlockChain\n",
    "from datetime import datetime"
   ]
  },
  {
   "cell_type": "code",
   "execution_count": 2,
   "metadata": {},
   "outputs": [],
   "source": [
    "bob_wallet = Wallet(\"Bob\")\n",
    "jack_wallet = Wallet(\"Jack\")\n",
    "steve_wallet = Wallet(\"Steve\")\n",
    "sarah_wallet = Wallet(\"Sarah\")"
   ]
  },
  {
   "cell_type": "code",
   "execution_count": 3,
   "metadata": {},
   "outputs": [],
   "source": [
    "transaction1 = Transaction(bob_wallet, jack_wallet, 10)\n",
    "transaction2 = Transaction(jack_wallet, bob_wallet, 10)"
   ]
  },
  {
   "cell_type": "code",
   "execution_count": 4,
   "metadata": {},
   "outputs": [
    {
     "name": "stdout",
     "output_type": "stream",
     "text": [
      "Block: 00003797861f5ada965d623c1410945a5ddeb7f5ea2e92a168dffd91151c7bb3; Transaction Hash: Genesis; Previous hash: None\n",
      "Block: 0000af72307f835e8051ebaaf0d3e01ad827ea566080d12c1669687f9ae71c2c; Transaction Hash: 0a7559a3801d791f625064ce168b566342481320d52ca32d7d6ae6db433e3c1c; Previous hash: 00003797861f5ada965d623c1410945a5ddeb7f5ea2e92a168dffd91151c7bb3\n",
      "Block: 00000096cb4c5512df7c1517e835a8005f462c649efb59e386b985aa1a6f3758; Transaction Hash: a5cd54d4d2a338a6bbb789c4311354a387d40ce900f65c02e277484322175814; Previous hash: 0000af72307f835e8051ebaaf0d3e01ad827ea566080d12c1669687f9ae71c2c\n",
      "Is Chain Valid? True\n"
     ]
    }
   ],
   "source": [
    "pityuCoin = BlockChain()\n",
    "pityuCoin.add_block(Block(datetime.now(), transaction1.transaction_hash, [transaction1]))\n",
    "pityuCoin.add_block(Block(datetime.now(), transaction2.transaction_hash, [transaction2]))\n",
    "pityuCoin.show_chain()\n",
    "print(f\"Is Chain Valid? {pityuCoin.is_chain_valid()}\")\n"
   ]
  },
  {
   "cell_type": "code",
   "execution_count": 5,
   "metadata": {},
   "outputs": [
    {
     "name": "stdout",
     "output_type": "stream",
     "text": [
      "Block: 00003797861f5ada965d623c1410945a5ddeb7f5ea2e92a168dffd91151c7bb3; Transaction Hash: Genesis; Previous hash: None\n",
      "Block: 0000af72307f835e8051ebaaf0d3e01ad827ea566080d12c1669687f9ae71c2c; Transaction Hash: 3ca1fbf99ea399512c9cba65f922df682b67d2ae6e1c83133aa490614c90fa11; Previous hash: 00003797861f5ada965d623c1410945a5ddeb7f5ea2e92a168dffd91151c7bb3\n",
      "Block: 00000096cb4c5512df7c1517e835a8005f462c649efb59e386b985aa1a6f3758; Transaction Hash: a5cd54d4d2a338a6bbb789c4311354a387d40ce900f65c02e277484322175814; Previous hash: 0000af72307f835e8051ebaaf0d3e01ad827ea566080d12c1669687f9ae71c2c\n",
      "Is Chain Valid? False\n"
     ]
    }
   ],
   "source": [
    "hacker_wallet = Wallet(\"Hacker\")\n",
    "pityuCoin.change_chain(1, hacker_wallet, 250)\n",
    "pityuCoin.show_chain()\n",
    "print(f\"Is Chain Valid? {pityuCoin.is_chain_valid()}\")"
   ]
  }
 ],
 "metadata": {
  "kernelspec": {
   "display_name": "Python 3.10.5 ('venv': venv)",
   "language": "python",
   "name": "python3"
  },
  "language_info": {
   "codemirror_mode": {
    "name": "ipython",
    "version": 3
   },
   "file_extension": ".py",
   "mimetype": "text/x-python",
   "name": "python",
   "nbconvert_exporter": "python",
   "pygments_lexer": "ipython3",
   "version": "3.10.5"
  },
  "orig_nbformat": 4,
  "vscode": {
   "interpreter": {
    "hash": "e39ccfdc9c41155a35c9399893f04d7c6604af9725427f02deb661ca0a3a4889"
   }
  }
 },
 "nbformat": 4,
 "nbformat_minor": 2
}
