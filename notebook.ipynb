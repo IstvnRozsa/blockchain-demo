{
 "cells": [
  {
   "cell_type": "code",
   "execution_count": 1,
   "metadata": {},
   "outputs": [],
   "source": [
    "from block import Block\n",
    "from transaction import Transaction\n",
    "from wallet import Wallet\n",
    "from blockchain import BlockChain\n",
    "from datetime import datetime"
   ]
  },
  {
   "cell_type": "code",
   "execution_count": 2,
   "metadata": {},
   "outputs": [],
   "source": [
    "bob_wallet = Wallet(\"Bob\")\n",
    "jack_wallet = Wallet(\"Jack\")\n",
    "steve_wallet = Wallet(\"Steve\")\n",
    "sarah_wallet = Wallet(\"Sarah\")"
   ]
  },
  {
   "cell_type": "code",
   "execution_count": 3,
   "metadata": {},
   "outputs": [],
   "source": [
    "transaction1 = Transaction(bob_wallet, jack_wallet, 10)\n",
    "transaction2 = Transaction(jack_wallet, bob_wallet, 10)"
   ]
  },
  {
   "cell_type": "code",
   "execution_count": 4,
   "metadata": {},
   "outputs": [
    {
     "name": "stdout",
     "output_type": "stream",
     "text": [
      "Block: 0000042185295408be5a9a0fbd283b8d159a9f152883aa92fa61af6c47aa6811; Transaction Hash: Genesis; Previous hash: None\n",
      "Block: 000015880081a13b6fb4105ddd25416f13501d324e89a70edce3efd0bffbcc0d; Transaction Hash: 1185a127ccab6bd1583f028629848a3efd437d4e60950af398a9c3b061d1142e; Previous hash: 0000042185295408be5a9a0fbd283b8d159a9f152883aa92fa61af6c47aa6811\n",
      "Block: 000066dc707309a11b4f250c410e9e3b0a45941532cb75ff172332a06c9e761f; Transaction Hash: beda7d600a3b71da43b3b25ffa3bfce912a76c5ffb912422eb5b9975c2a1296b; Previous hash: 000015880081a13b6fb4105ddd25416f13501d324e89a70edce3efd0bffbcc0d\n",
      "Is Chain Valid? True\n"
     ]
    }
   ],
   "source": [
    "pityuCoin = BlockChain()\n",
    "pityuCoin.add_block(Block(datetime.now(), transaction1.transaction_hash, [transaction1, transaction2, transaction2]))\n",
    "pityuCoin.add_block(Block(datetime.now(), transaction2.transaction_hash, [transaction2]))\n",
    "pityuCoin.show_chain()\n",
    "print(f\"Is Chain Valid? {pityuCoin.is_chain_valid()}\")\n"
   ]
  },
  {
   "cell_type": "code",
   "execution_count": 5,
   "metadata": {},
   "outputs": [
    {
     "name": "stdout",
     "output_type": "stream",
     "text": [
      "Corrupt Block:  Block: cb16ac6e35c6804f6d6a3d3f1ed228d2e8e150e1f5415ae38b690603d0e3524e; Transaction Hash: 92abc30528d165ef134ca46dffb2578e9a0cb02947c5908fb326d731f02dbdce; Previous hash: 0000042185295408be5a9a0fbd283b8d159a9f152883aa92fa61af6c47aa6811\n",
      "Is Chain Valid? False\n"
     ]
    }
   ],
   "source": [
    "hacker_wallet = Wallet(\"Hacker\")\n",
    "pityuCoin.change_chain(1, hacker_wallet, 250)\n",
    "print(f\"Is Chain Valid? {pityuCoin.is_chain_valid()}\")\n",
    "print(\"Corrupt Chain:\")\n",
    "pityuCoin.show_chain()"
   ]
  }
 ],
 "metadata": {
  "kernelspec": {
   "display_name": "Python 3.10.5 ('venv': venv)",
   "language": "python",
   "name": "python3"
  },
  "language_info": {
   "codemirror_mode": {
    "name": "ipython",
    "version": 3
   },
   "file_extension": ".py",
   "mimetype": "text/x-python",
   "name": "python",
   "nbconvert_exporter": "python",
   "pygments_lexer": "ipython3",
   "version": "3.10.5"
  },
  "orig_nbformat": 4,
  "vscode": {
   "interpreter": {
    "hash": "e39ccfdc9c41155a35c9399893f04d7c6604af9725427f02deb661ca0a3a4889"
   }
  }
 },
 "nbformat": 4,
 "nbformat_minor": 2
}
