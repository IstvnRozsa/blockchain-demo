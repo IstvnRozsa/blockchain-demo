{
 "cells": [
  {
   "cell_type": "code",
   "execution_count": 11,
   "metadata": {},
   "outputs": [],
   "source": [
    "from block import Block\n",
    "from transaction import Transaction\n",
    "from wallet import Wallet\n",
    "from blockchain import BlockChain\n",
    "from datetime import datetime"
   ]
  },
  {
   "cell_type": "markdown",
   "metadata": {},
   "source": [
    "# Pénztárcák létrehozása"
   ]
  },
  {
   "cell_type": "code",
   "execution_count": 12,
   "metadata": {},
   "outputs": [],
   "source": [
    "bob_wallet = Wallet(\"Bob\")\n",
    "jack_wallet = Wallet(\"Jack\")\n",
    "steve_wallet = Wallet(\"Steve\")\n",
    "sarah_wallet = Wallet(\"Sarah\")"
   ]
  },
  {
   "cell_type": "markdown",
   "metadata": {},
   "source": [
    "# Tranzakciók létrehozása"
   ]
  },
  {
   "cell_type": "code",
   "execution_count": 13,
   "metadata": {},
   "outputs": [],
   "source": [
    "transaction1 = Transaction(bob_wallet, jack_wallet, 10)\n",
    "transaction2 = Transaction(jack_wallet, bob_wallet, 13)\n",
    "transaction3 = Transaction(jack_wallet, steve_wallet, 18)\n",
    "transaction4 = Transaction(sarah_wallet, bob_wallet, 21)"
   ]
  },
  {
   "cell_type": "markdown",
   "metadata": {},
   "source": [
    "# Tranzakciók blokkokba rendezése"
   ]
  },
  {
   "cell_type": "code",
   "execution_count": 14,
   "metadata": {},
   "outputs": [
    {
     "name": "stdout",
     "output_type": "stream",
     "text": [
      "----------Start----------\n",
      "----------\n",
      "Block: 00006a0bc61ae03c2014ef1e810a536a911aeb66526b9a706790be2224311660;\n",
      "Transaction Hash: Genesis;\n",
      "Previous hash: None\n",
      "Genesis transaction\n",
      "----------\n",
      "Block: 0000d4f49bd3d6b207138d3c906ce30d9f62600161f13c63dbb78a4bc4006292;\n",
      "Transaction Hash: 715ef007bb9d06a35c4a140a562bc53704398480118e3578eb62218e5a4a8143;\n",
      "Previous hash: 00006a0bc61ae03c2014ef1e810a536a911aeb66526b9a706790be2224311660\n",
      "- Bob sent 10 coins to Jack.\n",
      "- Jack sent 13 coins to Bob.\n",
      "- Jack sent 18 coins to Steve.\n",
      "----------\n",
      "Block: 000059bc2fee0fe9ee762c3601e3fb12231ec6f1e972fb00f93d2b6c7854caa4;\n",
      "Transaction Hash: e64e0aed74f91975c46ed7071c2b6e249f55b71686afcd07dc95af02977c1d35;\n",
      "Previous hash: 0000d4f49bd3d6b207138d3c906ce30d9f62600161f13c63dbb78a4bc4006292\n",
      "- Sarah sent 21 coins to Bob.\n",
      "Is Chain Valid? True\n"
     ]
    }
   ],
   "source": [
    "pityuCoin = BlockChain()\n",
    "pityuCoin.add_block(Block(datetime.now(), transaction1.transaction_hash, [transaction1, transaction2, transaction3]))\n",
    "pityuCoin.add_block(Block(datetime.now(), transaction2.transaction_hash, [transaction4]))\n",
    "pityuCoin.show_chain()\n",
    "print(f\"Is Chain Valid? {pityuCoin.is_chain_valid()}\")\n"
   ]
  },
  {
   "cell_type": "markdown",
   "metadata": {},
   "source": [
    "# Hekkeljük meg a láncot\n",
    "A 2. tranzakcióba bele nyúlunk és beállítjuk a cél pénztárcának a hekker pénztárcáját és módosítjuk az összeget 250 coin-ra."
   ]
  },
  {
   "cell_type": "code",
   "execution_count": 15,
   "metadata": {},
   "outputs": [
    {
     "name": "stdout",
     "output_type": "stream",
     "text": [
      "Is Chain Valid? False\n",
      "Corrupt Chain:\n",
      "----------Start----------\n",
      "----------\n",
      "Block: 00006a0bc61ae03c2014ef1e810a536a911aeb66526b9a706790be2224311660;\n",
      "Transaction Hash: Genesis;\n",
      "Previous hash: None\n",
      "Genesis transaction\n",
      "----------\n",
      "Block: 93768220e0adbe3efaef7f141ba93faf9c52aac26ead068fae9f6c989e7281f8;\n",
      "Transaction Hash: ff5f5072b2b85cd2ed51c7155944a23921ef6a956f068b63fbbc0056586d9f32;\n",
      "Previous hash: 00006a0bc61ae03c2014ef1e810a536a911aeb66526b9a706790be2224311660\n",
      "- Bob sent 250 coins to Hacker.\n",
      "- Jack sent 13 coins to Bob.\n",
      "- Jack sent 18 coins to Steve.\n",
      "----------\n",
      "Block: 000059bc2fee0fe9ee762c3601e3fb12231ec6f1e972fb00f93d2b6c7854caa4;\n",
      "Transaction Hash: e64e0aed74f91975c46ed7071c2b6e249f55b71686afcd07dc95af02977c1d35;\n",
      "Previous hash: 0000d4f49bd3d6b207138d3c906ce30d9f62600161f13c63dbb78a4bc4006292\n",
      "- Sarah sent 21 coins to Bob.\n"
     ]
    }
   ],
   "source": [
    "hacker_wallet = Wallet(\"Hacker\")\n",
    "pityuCoin.change_chain(1, hacker_wallet, 250)\n",
    "print(f\"Is Chain Valid? {pityuCoin.is_chain_valid()}\")\n",
    "print(\"Corrupt Chain:\")\n",
    "pityuCoin.show_chain()"
   ]
  }
 ],
 "metadata": {
  "kernelspec": {
   "display_name": "Python 3.10.5 ('venv': venv)",
   "language": "python",
   "name": "python3"
  },
  "language_info": {
   "codemirror_mode": {
    "name": "ipython",
    "version": 3
   },
   "file_extension": ".py",
   "mimetype": "text/x-python",
   "name": "python",
   "nbconvert_exporter": "python",
   "pygments_lexer": "ipython3",
   "version": "3.10.5"
  },
  "orig_nbformat": 4,
  "vscode": {
   "interpreter": {
    "hash": "e39ccfdc9c41155a35c9399893f04d7c6604af9725427f02deb661ca0a3a4889"
   }
  }
 },
 "nbformat": 4,
 "nbformat_minor": 2
}
